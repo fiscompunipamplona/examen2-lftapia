{
 "cells": [
  {
   "cell_type": "markdown",
   "metadata": {},
   "source": [
    "# 5.9 (a) y (b)"
   ]
  },
  {
   "cell_type": "code",
   "execution_count": 39,
   "metadata": {},
   "outputs": [
    {
     "name": "stdout",
     "output_type": "stream",
     "text": [
      "Ingrese la Temparura:428\n",
      "Función temperatura:  256.8\n"
     ]
    },
    {
     "data": {
      "text/plain": [
       "Text(0, 0.5, 'C_v')"
      ]
     },
     "execution_count": 39,
     "metadata": {},
     "output_type": "execute_result"
    },
    {
     "data": {
      "image/png": "[encoded data removed]",
      "text/plain": [
       "<Figure size 432x288 with 1 Axes>"
      ]
     },
     "metadata": {
      "needs_background": "light"
     },
     "output_type": "display_data"
    }
   ],
   "source": [
    "\n",
    "from math import*\n",
    "from numpy import*\n",
    "from pylab import *\n",
    "\n",
    "V=0.001 # Volumen\n",
    "p=6.022e28 # Densidad de atomos\n",
    "T=float(input(\"Ingrese la Temparura:\"))\n",
    "theta_D=428\n",
    "k_b=1.3806e-23\n",
    "C_v=(9)*(V)*(p)*(k_b)*((T/theta_D)**3)\n",
    "\n",
    "def simpson(x):\n",
    "    \n",
    "    f=x**4/(exp(2)-2+1/exp(x))\n",
    "    return(f)\n",
    "\n",
    "a = 0\n",
    "b = theta_D/T\n",
    "N = 50\n",
    "\n",
    "h = (b-a)/N\n",
    "x = a\n",
    "area = 0\n",
    "for i in range(N//2):\n",
    "    deltaA = C_v*(h/3)*(simpson(x)+4*simpson(x+h)+simpson(x+2*h))\n",
    "    area+=deltaA\n",
    "    x = x + 2*h\n",
    "\n",
    "print('Función temperatura: ',round(area,2))\n",
    "\n",
    "T = linspace(5,500,100)\n",
    "C_v= [simpson(Ti) for Ti in T]\n",
    "plot(T,C_v,\"r\")\n",
    "xlabel('Temperature, K')\n",
    "ylabel('C_v')"
   ]
  },
  {
   "cell_type": "markdown",
   "metadata": {},
   "source": [
    "# 5.10 (a)"
   ]
  },
  {
   "cell_type": "markdown",
   "metadata": {},
   "source": [
    "$E=\\frac{1}{2}m(\\frac{dx}{dt})^{2}+V(x)$"
   ]
  },
  {
   "cell_type": "markdown",
   "metadata": {},
   "source": [
    "Esta es una ecucación de primer orden,que se integra por separacion de variable. Despejando $\\frac{dx}{dt}$ nos queda:"
   ]
  },
  {
   "cell_type": "markdown",
   "metadata": {},
   "source": [
    "$\\frac{dx}{dt}=\\sqrt{\\frac{2(E-V(x))}{m}}$"
   ]
  },
  {
   "cell_type": "markdown",
   "metadata": {},
   "source": [
    "$dt=\\sqrt{\\frac{m}{2}}\\frac{dx}{\\sqrt{E-V(x)}}$"
   ]
  },
  {
   "cell_type": "markdown",
   "metadata": {},
   "source": [
    "$\\int_{0}^{\\frac{T}{4}}dt=\\sqrt{\\frac{m}{2}}\\int_{0}^{a}\\frac{dx}{\\sqrt{E-V(x)}}$"
   ]
  },
  {
   "cell_type": "markdown",
   "metadata": {},
   "source": [
    "$\\frac{T}{4}=\\sqrt{\\frac{m}{2}}\\int_{0}^{a}\\frac{dx}{\\sqrt{E-V(x)}}$"
   ]
  },
  {
   "cell_type": "markdown",
   "metadata": {},
   "source": [
    "Despejando T nos queda:"
   ]
  },
  {
   "cell_type": "markdown",
   "metadata": {},
   "source": [
    "$T=\\sqrt{8m}\\int_{0}^{a}\\frac{dx}{\\sqrt{E-V(x)}}$"
   ]
  },
  {
   "cell_type": "markdown",
   "metadata": {},
   "source": [
    "Por la condicion dada en el problema E=V(a), entonces T nos queda:"
   ]
  },
  {
   "cell_type": "markdown",
   "metadata": {},
   "source": [
    "$T=\\sqrt{8m}\\int_{0}^{a}\\frac{dx}{\\sqrt{V(a)-V(x)}}$"
   ]
  },
  {
   "cell_type": "markdown",
   "metadata": {},
   "source": [
    "# 5.10 (b)"
   ]
  },
  {
   "cell_type": "code",
   "execution_count": 40,
   "metadata": {},
   "outputs": [
    {
     "name": "stdout",
     "output_type": "stream",
     "text": [
      "Ingrese la amplitud: 2\n",
      "El valor de la integral por Simpson es I = 0.624148731765583\n"
     ]
    }
   ],
   "source": [
    "from numpy import*\n",
    "from math import*\n",
    "from pylab import*\n",
    "A=float(input(\"Ingrese la amplitud: \"))\n",
    "N=20\n",
    "b=A\n",
    "a=0\n",
    "h=(b-a)/N\n",
    "i=0\n",
    "it=0\n",
    "fa=1/sqrt(abs(2-(a**4)))\n",
    "fb=1/sqrt(abs(2-(b**4)))\n",
    "for k in range(1,N//2+1):\n",
    "    x=a+(2*k-1)\n",
    "    y=1/sqrt(abs(2-(x**4)))\n",
    "    it+=y\n",
    "    #print(it)    \n",
    "for ks in range(1,((N//2)-1)+1):\n",
    "    x=a+2*ks\n",
    "    z=1/sqrt(abs(2-(x**4)))\n",
    "    i+=z\n",
    "    #print(i)    \n",
    "    \n",
    "It=sqrt(8)*(h/3)*(fa+fb+4*it+2*i)\n",
    "print('El valor de la integral por Simpson es I =',It)"
   ]
  },
  {
   "cell_type": "code",
   "execution_count": null,
   "metadata": {},
   "outputs": [],
   "source": []
  }
 ],
 "metadata": {
  "kernelspec": {
   "display_name": "Python 3",
   "language": "python",
   "name": "python3"
  },
  "language_info": {
   "codemirror_mode": {
    "name": "ipython",
    "version": 3
   },
   "file_extension": ".py",
   "mimetype": "text/x-python",
   "name": "python",
   "nbconvert_exporter": "python",
   "pygments_lexer": "ipython3",
   "version": "3.5.2"
  }
 },
 "nbformat": 4,
 "nbformat_minor": 2
}
